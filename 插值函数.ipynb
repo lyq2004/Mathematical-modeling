{
 "cells": [
  {
   "cell_type": "code",
   "execution_count": 1,
   "id": "27bc8b68-e610-4394-8b20-a1ebe0f09c28",
   "metadata": {
    "execution": {
     "iopub.execute_input": "2025-01-09T13:41:27.115703Z",
     "iopub.status.busy": "2025-01-09T13:41:27.115369Z",
     "iopub.status.idle": "2025-01-09T13:41:27.273046Z",
     "shell.execute_reply": "2025-01-09T13:41:27.272528Z",
     "shell.execute_reply.started": "2025-01-09T13:41:27.115680Z"
    },
    "tags": []
   },
   "outputs": [
    {
     "name": "stdout",
     "output_type": "stream",
     "text": [
      "插值点 x = 2.5 对应的插值值 y = 6.2265625\n"
     ]
    }
   ],
   "source": [
    "import numpy as np\n",
    "\n",
    "# 计算差商\n",
    "def divided_difference(x_values, y_values):\n",
    "    \"\"\"\n",
    "    计算差商表。\n",
    "    \n",
    "    :param x_values: 已知数据点的 x 坐标列表\n",
    "    :param y_values: 已知数据点的 y 坐标列表\n",
    "    :return: 差商表（一个二维列表）\n",
    "    \"\"\"\n",
    "    n = len(x_values)\n",
    "    # 创建一个二维列表，用于存储差商\n",
    "    table = np.zeros((n, n))\n",
    "    table[:, 0] = y_values  # 第一列是 y_values（即 f(x)）\n",
    "    \n",
    "    # 填充差商表\n",
    "    for j in range(1, n):\n",
    "        for i in range(n - j):\n",
    "            table[i, j] = (table[i + 1, j - 1] - table[i, j - 1]) / (x_values[i + j] - x_values[i])\n",
    "    \n",
    "    return table\n",
    "\n",
    "# 牛顿插值函数\n",
    "def newton_interpolation(x_values, y_values, x):\n",
    "    \"\"\"\n",
    "    计算牛顿插值多项式在给定点 x 的值\n",
    "    \n",
    "    :param x_values: 已知数据点的 x 坐标列表\n",
    "    :param y_values: 已知数据点的 y 坐标列表\n",
    "    :param x: 需要计算插值结果的 x 值\n",
    "    :return: 插值结果\n",
    "    \"\"\"\n",
    "    # 计算差商表\n",
    "    table = divided_difference(x_values, y_values)\n",
    "    \n",
    "    # 计算插值多项式的值\n",
    "    n = len(x_values)\n",
    "    result = y_values[0]  # 初始化为 f(x_0)\n",
    "    product_term = 1.0\n",
    "    \n",
    "    for i in range(1, n):\n",
    "        product_term *= (x - x_values[i - 1])\n",
    "        result += table[0, i] * product_term\n",
    "    \n",
    "    return result\n",
    "\n",
    "# 示例数据点\n",
    "x_points = [1, 2, 3, 4, 5]\n",
    "y_points = [1, 4, 9, 16, 24]\n",
    "\n",
    "# 要插值的点\n",
    "x_to_interpolate = 2.5\n",
    "\n",
    "# 使用牛顿插值法计算结果\n",
    "interpolated_value = newton_interpolation(x_points, y_points, x_to_interpolate)\n",
    "\n",
    "# 打印插值结果\n",
    "print(f\"插值点 x = {x_to_interpolate} 对应的插值值 y = {interpolated_value}\")\n"
   ]
  },
  {
   "cell_type": "code",
   "execution_count": 2,
   "id": "ac906d58-b9b7-4b42-9f4b-381e0a34ca99",
   "metadata": {
    "execution": {
     "iopub.execute_input": "2025-01-09T13:41:41.835689Z",
     "iopub.status.busy": "2025-01-09T13:41:41.835283Z",
     "iopub.status.idle": "2025-01-09T13:41:41.840861Z",
     "shell.execute_reply": "2025-01-09T13:41:41.840260Z",
     "shell.execute_reply.started": "2025-01-09T13:41:41.835666Z"
    },
    "tags": []
   },
   "outputs": [
    {
     "name": "stdout",
     "output_type": "stream",
     "text": [
      "插值点 x = 2.5 对应的插值值 y = 6.2265625\n"
     ]
    }
   ],
   "source": [
    "import numpy as np\n",
    "\n",
    "# 拉格朗日插值函数\n",
    "def lagrange_interpolation(x_values, y_values, x):\n",
    "    \"\"\"\n",
    "    计算拉格朗日插值多项式在给定点x的值\n",
    "    \n",
    "    :param x_values: 已知数据点的x坐标列表\n",
    "    :param y_values: 已知数据点的y坐标列表\n",
    "    :param x: 需要计算插值结果的x值\n",
    "    :return: 插值结果\n",
    "    \"\"\"\n",
    "    # 确保x_values和y_values具有相同长度\n",
    "    n = len(x_values)\n",
    "    result = 0.0\n",
    "\n",
    "    # 计算插值\n",
    "    for i in range(n):\n",
    "        # 计算L_i(x)\n",
    "        term = y_values[i]\n",
    "        for j in range(n):\n",
    "            if j != i:\n",
    "                term *= (x - x_values[j]) / (x_values[i] - x_values[j])\n",
    "        result += term\n",
    "\n",
    "    return result\n",
    "\n",
    "# 示例数据点\n",
    "x_points = [1, 2, 3, 4, 5]\n",
    "y_points = [1, 4, 9, 16, 24]\n",
    "\n",
    "# 要插值的点\n",
    "x_to_interpolate = 2.5\n",
    "\n",
    "# 使用拉格朗日插值法计算结果\n",
    "interpolated_value = lagrange_interpolation(x_points, y_points, x_to_interpolate)\n",
    "\n",
    "# 打印插值结果\n",
    "print(f\"插值点 x = {x_to_interpolate} 对应的插值值 y = {interpolated_value}\")\n"
   ]
  }
 ],
 "metadata": {
  "kernelspec": {
   "display_name": "Python 3 (ipykernel)",
   "language": "python",
   "name": "python3"
  },
  "language_info": {
   "codemirror_mode": {
    "name": "ipython",
    "version": 3
   },
   "file_extension": ".py",
   "mimetype": "text/x-python",
   "name": "python",
   "nbconvert_exporter": "python",
   "pygments_lexer": "ipython3",
   "version": "3.10.14"
  }
 },
 "nbformat": 4,
 "nbformat_minor": 5
}
